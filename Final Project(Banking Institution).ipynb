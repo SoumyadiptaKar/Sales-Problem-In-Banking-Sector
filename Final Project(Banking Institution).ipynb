{
 "cells": [
  {
   "cell_type": "markdown",
   "id": "13559b9e",
   "metadata": {},
   "source": [
    "# Data Exploration"
   ]
  },
  {
   "cell_type": "code",
   "execution_count": 36,
   "id": "33961cb9",
   "metadata": {},
   "outputs": [],
   "source": [
    "#importing important libraries\n",
    "import pandas as pd\n",
    "import numpy as np                # Foor math calculations\n",
    "import seaborn as sns             # For data visualization\n",
    "import matplotlib.pyplot as plt   # For ploting graphs\n",
    "%matplotlib inline\n",
    "import warnings\n",
    "warnings.filterwarnings(\"ignore\")"
   ]
  },
  {
   "cell_type": "code",
   "execution_count": 37,
   "id": "f12aa149",
   "metadata": {},
   "outputs": [],
   "source": [
    "# loading data \n",
    "train = pd.read_csv('train.csv')\n",
    "test = pd.read_csv('test.csv')"
   ]
  },
  {
   "cell_type": "code",
   "execution_count": 38,
   "id": "96d8ac4a",
   "metadata": {},
   "outputs": [
    {
     "data": {
      "text/html": [
       "<div>\n",
       "<style scoped>\n",
       "    .dataframe tbody tr th:only-of-type {\n",
       "        vertical-align: middle;\n",
       "    }\n",
       "\n",
       "    .dataframe tbody tr th {\n",
       "        vertical-align: top;\n",
       "    }\n",
       "\n",
       "    .dataframe thead th {\n",
       "        text-align: right;\n",
       "    }\n",
       "</style>\n",
       "<table border=\"1\" class=\"dataframe\">\n",
       "  <thead>\n",
       "    <tr style=\"text-align: right;\">\n",
       "      <th></th>\n",
       "      <th>ID</th>\n",
       "      <th>age</th>\n",
       "      <th>job</th>\n",
       "      <th>marital</th>\n",
       "      <th>education</th>\n",
       "      <th>default</th>\n",
       "      <th>balance</th>\n",
       "      <th>housing</th>\n",
       "      <th>loan</th>\n",
       "      <th>contact</th>\n",
       "      <th>day</th>\n",
       "      <th>month</th>\n",
       "      <th>duration</th>\n",
       "      <th>campaign</th>\n",
       "      <th>pdays</th>\n",
       "      <th>previous</th>\n",
       "      <th>poutcome</th>\n",
       "      <th>subscribed</th>\n",
       "    </tr>\n",
       "  </thead>\n",
       "  <tbody>\n",
       "    <tr>\n",
       "      <th>0</th>\n",
       "      <td>26110</td>\n",
       "      <td>56</td>\n",
       "      <td>admin.</td>\n",
       "      <td>married</td>\n",
       "      <td>unknown</td>\n",
       "      <td>no</td>\n",
       "      <td>1933</td>\n",
       "      <td>no</td>\n",
       "      <td>no</td>\n",
       "      <td>telephone</td>\n",
       "      <td>19</td>\n",
       "      <td>nov</td>\n",
       "      <td>44</td>\n",
       "      <td>2</td>\n",
       "      <td>-1</td>\n",
       "      <td>0</td>\n",
       "      <td>unknown</td>\n",
       "      <td>no</td>\n",
       "    </tr>\n",
       "    <tr>\n",
       "      <th>1</th>\n",
       "      <td>40576</td>\n",
       "      <td>31</td>\n",
       "      <td>unknown</td>\n",
       "      <td>married</td>\n",
       "      <td>secondary</td>\n",
       "      <td>no</td>\n",
       "      <td>3</td>\n",
       "      <td>no</td>\n",
       "      <td>no</td>\n",
       "      <td>cellular</td>\n",
       "      <td>20</td>\n",
       "      <td>jul</td>\n",
       "      <td>91</td>\n",
       "      <td>2</td>\n",
       "      <td>-1</td>\n",
       "      <td>0</td>\n",
       "      <td>unknown</td>\n",
       "      <td>no</td>\n",
       "    </tr>\n",
       "    <tr>\n",
       "      <th>2</th>\n",
       "      <td>15320</td>\n",
       "      <td>27</td>\n",
       "      <td>services</td>\n",
       "      <td>married</td>\n",
       "      <td>secondary</td>\n",
       "      <td>no</td>\n",
       "      <td>891</td>\n",
       "      <td>yes</td>\n",
       "      <td>no</td>\n",
       "      <td>cellular</td>\n",
       "      <td>18</td>\n",
       "      <td>jul</td>\n",
       "      <td>240</td>\n",
       "      <td>1</td>\n",
       "      <td>-1</td>\n",
       "      <td>0</td>\n",
       "      <td>unknown</td>\n",
       "      <td>no</td>\n",
       "    </tr>\n",
       "    <tr>\n",
       "      <th>3</th>\n",
       "      <td>43962</td>\n",
       "      <td>57</td>\n",
       "      <td>management</td>\n",
       "      <td>divorced</td>\n",
       "      <td>tertiary</td>\n",
       "      <td>no</td>\n",
       "      <td>3287</td>\n",
       "      <td>no</td>\n",
       "      <td>no</td>\n",
       "      <td>cellular</td>\n",
       "      <td>22</td>\n",
       "      <td>jun</td>\n",
       "      <td>867</td>\n",
       "      <td>1</td>\n",
       "      <td>84</td>\n",
       "      <td>3</td>\n",
       "      <td>success</td>\n",
       "      <td>yes</td>\n",
       "    </tr>\n",
       "    <tr>\n",
       "      <th>4</th>\n",
       "      <td>29842</td>\n",
       "      <td>31</td>\n",
       "      <td>technician</td>\n",
       "      <td>married</td>\n",
       "      <td>secondary</td>\n",
       "      <td>no</td>\n",
       "      <td>119</td>\n",
       "      <td>yes</td>\n",
       "      <td>no</td>\n",
       "      <td>cellular</td>\n",
       "      <td>4</td>\n",
       "      <td>feb</td>\n",
       "      <td>380</td>\n",
       "      <td>1</td>\n",
       "      <td>-1</td>\n",
       "      <td>0</td>\n",
       "      <td>unknown</td>\n",
       "      <td>no</td>\n",
       "    </tr>\n",
       "    <tr>\n",
       "      <th>5</th>\n",
       "      <td>29390</td>\n",
       "      <td>33</td>\n",
       "      <td>management</td>\n",
       "      <td>single</td>\n",
       "      <td>tertiary</td>\n",
       "      <td>no</td>\n",
       "      <td>0</td>\n",
       "      <td>yes</td>\n",
       "      <td>no</td>\n",
       "      <td>cellular</td>\n",
       "      <td>2</td>\n",
       "      <td>feb</td>\n",
       "      <td>116</td>\n",
       "      <td>3</td>\n",
       "      <td>-1</td>\n",
       "      <td>0</td>\n",
       "      <td>unknown</td>\n",
       "      <td>no</td>\n",
       "    </tr>\n",
       "    <tr>\n",
       "      <th>6</th>\n",
       "      <td>40444</td>\n",
       "      <td>56</td>\n",
       "      <td>retired</td>\n",
       "      <td>married</td>\n",
       "      <td>secondary</td>\n",
       "      <td>no</td>\n",
       "      <td>1044</td>\n",
       "      <td>no</td>\n",
       "      <td>no</td>\n",
       "      <td>telephone</td>\n",
       "      <td>3</td>\n",
       "      <td>jul</td>\n",
       "      <td>353</td>\n",
       "      <td>2</td>\n",
       "      <td>-1</td>\n",
       "      <td>0</td>\n",
       "      <td>unknown</td>\n",
       "      <td>yes</td>\n",
       "    </tr>\n",
       "    <tr>\n",
       "      <th>7</th>\n",
       "      <td>40194</td>\n",
       "      <td>50</td>\n",
       "      <td>technician</td>\n",
       "      <td>single</td>\n",
       "      <td>secondary</td>\n",
       "      <td>no</td>\n",
       "      <td>1811</td>\n",
       "      <td>no</td>\n",
       "      <td>no</td>\n",
       "      <td>cellular</td>\n",
       "      <td>8</td>\n",
       "      <td>jun</td>\n",
       "      <td>97</td>\n",
       "      <td>4</td>\n",
       "      <td>-1</td>\n",
       "      <td>0</td>\n",
       "      <td>unknown</td>\n",
       "      <td>no</td>\n",
       "    </tr>\n",
       "    <tr>\n",
       "      <th>8</th>\n",
       "      <td>29824</td>\n",
       "      <td>45</td>\n",
       "      <td>blue-collar</td>\n",
       "      <td>divorced</td>\n",
       "      <td>secondary</td>\n",
       "      <td>no</td>\n",
       "      <td>1951</td>\n",
       "      <td>yes</td>\n",
       "      <td>no</td>\n",
       "      <td>cellular</td>\n",
       "      <td>4</td>\n",
       "      <td>feb</td>\n",
       "      <td>692</td>\n",
       "      <td>1</td>\n",
       "      <td>-1</td>\n",
       "      <td>0</td>\n",
       "      <td>unknown</td>\n",
       "      <td>no</td>\n",
       "    </tr>\n",
       "    <tr>\n",
       "      <th>9</th>\n",
       "      <td>44676</td>\n",
       "      <td>35</td>\n",
       "      <td>admin.</td>\n",
       "      <td>married</td>\n",
       "      <td>secondary</td>\n",
       "      <td>no</td>\n",
       "      <td>1204</td>\n",
       "      <td>no</td>\n",
       "      <td>no</td>\n",
       "      <td>cellular</td>\n",
       "      <td>3</td>\n",
       "      <td>sep</td>\n",
       "      <td>789</td>\n",
       "      <td>2</td>\n",
       "      <td>-1</td>\n",
       "      <td>0</td>\n",
       "      <td>unknown</td>\n",
       "      <td>no</td>\n",
       "    </tr>\n",
       "  </tbody>\n",
       "</table>\n",
       "</div>"
      ],
      "text/plain": [
       "      ID  age          job   marital  education default  balance housing loan  \\\n",
       "0  26110   56       admin.   married    unknown      no     1933      no   no   \n",
       "1  40576   31      unknown   married  secondary      no        3      no   no   \n",
       "2  15320   27     services   married  secondary      no      891     yes   no   \n",
       "3  43962   57   management  divorced   tertiary      no     3287      no   no   \n",
       "4  29842   31   technician   married  secondary      no      119     yes   no   \n",
       "5  29390   33   management    single   tertiary      no        0     yes   no   \n",
       "6  40444   56      retired   married  secondary      no     1044      no   no   \n",
       "7  40194   50   technician    single  secondary      no     1811      no   no   \n",
       "8  29824   45  blue-collar  divorced  secondary      no     1951     yes   no   \n",
       "9  44676   35       admin.   married  secondary      no     1204      no   no   \n",
       "\n",
       "     contact  day month  duration  campaign  pdays  previous poutcome  \\\n",
       "0  telephone   19   nov        44         2     -1         0  unknown   \n",
       "1   cellular   20   jul        91         2     -1         0  unknown   \n",
       "2   cellular   18   jul       240         1     -1         0  unknown   \n",
       "3   cellular   22   jun       867         1     84         3  success   \n",
       "4   cellular    4   feb       380         1     -1         0  unknown   \n",
       "5   cellular    2   feb       116         3     -1         0  unknown   \n",
       "6  telephone    3   jul       353         2     -1         0  unknown   \n",
       "7   cellular    8   jun        97         4     -1         0  unknown   \n",
       "8   cellular    4   feb       692         1     -1         0  unknown   \n",
       "9   cellular    3   sep       789         2     -1         0  unknown   \n",
       "\n",
       "  subscribed  \n",
       "0         no  \n",
       "1         no  \n",
       "2         no  \n",
       "3        yes  \n",
       "4         no  \n",
       "5         no  \n",
       "6        yes  \n",
       "7         no  \n",
       "8         no  \n",
       "9         no  "
      ]
     },
     "execution_count": 38,
     "metadata": {},
     "output_type": "execute_result"
    }
   ],
   "source": [
    "train.head(10)"
   ]
  },
  {
   "cell_type": "code",
   "execution_count": 39,
   "id": "5d545f9c",
   "metadata": {},
   "outputs": [
    {
     "data": {
      "text/html": [
       "<div>\n",
       "<style scoped>\n",
       "    .dataframe tbody tr th:only-of-type {\n",
       "        vertical-align: middle;\n",
       "    }\n",
       "\n",
       "    .dataframe tbody tr th {\n",
       "        vertical-align: top;\n",
       "    }\n",
       "\n",
       "    .dataframe thead th {\n",
       "        text-align: right;\n",
       "    }\n",
       "</style>\n",
       "<table border=\"1\" class=\"dataframe\">\n",
       "  <thead>\n",
       "    <tr style=\"text-align: right;\">\n",
       "      <th></th>\n",
       "      <th>ID</th>\n",
       "      <th>age</th>\n",
       "      <th>job</th>\n",
       "      <th>marital</th>\n",
       "      <th>education</th>\n",
       "      <th>default</th>\n",
       "      <th>balance</th>\n",
       "      <th>housing</th>\n",
       "      <th>loan</th>\n",
       "      <th>contact</th>\n",
       "      <th>day</th>\n",
       "      <th>month</th>\n",
       "      <th>duration</th>\n",
       "      <th>campaign</th>\n",
       "      <th>pdays</th>\n",
       "      <th>previous</th>\n",
       "      <th>poutcome</th>\n",
       "    </tr>\n",
       "  </thead>\n",
       "  <tbody>\n",
       "    <tr>\n",
       "      <th>0</th>\n",
       "      <td>38441</td>\n",
       "      <td>32</td>\n",
       "      <td>services</td>\n",
       "      <td>married</td>\n",
       "      <td>secondary</td>\n",
       "      <td>no</td>\n",
       "      <td>118</td>\n",
       "      <td>yes</td>\n",
       "      <td>no</td>\n",
       "      <td>cellular</td>\n",
       "      <td>15</td>\n",
       "      <td>may</td>\n",
       "      <td>20</td>\n",
       "      <td>6</td>\n",
       "      <td>-1</td>\n",
       "      <td>0</td>\n",
       "      <td>unknown</td>\n",
       "    </tr>\n",
       "    <tr>\n",
       "      <th>1</th>\n",
       "      <td>40403</td>\n",
       "      <td>78</td>\n",
       "      <td>retired</td>\n",
       "      <td>divorced</td>\n",
       "      <td>primary</td>\n",
       "      <td>no</td>\n",
       "      <td>2787</td>\n",
       "      <td>no</td>\n",
       "      <td>no</td>\n",
       "      <td>telephone</td>\n",
       "      <td>1</td>\n",
       "      <td>jul</td>\n",
       "      <td>372</td>\n",
       "      <td>1</td>\n",
       "      <td>-1</td>\n",
       "      <td>0</td>\n",
       "      <td>unknown</td>\n",
       "    </tr>\n",
       "    <tr>\n",
       "      <th>2</th>\n",
       "      <td>3709</td>\n",
       "      <td>31</td>\n",
       "      <td>self-employed</td>\n",
       "      <td>single</td>\n",
       "      <td>tertiary</td>\n",
       "      <td>no</td>\n",
       "      <td>144</td>\n",
       "      <td>yes</td>\n",
       "      <td>no</td>\n",
       "      <td>unknown</td>\n",
       "      <td>16</td>\n",
       "      <td>may</td>\n",
       "      <td>676</td>\n",
       "      <td>1</td>\n",
       "      <td>-1</td>\n",
       "      <td>0</td>\n",
       "      <td>unknown</td>\n",
       "    </tr>\n",
       "    <tr>\n",
       "      <th>3</th>\n",
       "      <td>37422</td>\n",
       "      <td>57</td>\n",
       "      <td>services</td>\n",
       "      <td>single</td>\n",
       "      <td>primary</td>\n",
       "      <td>no</td>\n",
       "      <td>3777</td>\n",
       "      <td>yes</td>\n",
       "      <td>no</td>\n",
       "      <td>telephone</td>\n",
       "      <td>13</td>\n",
       "      <td>may</td>\n",
       "      <td>65</td>\n",
       "      <td>2</td>\n",
       "      <td>-1</td>\n",
       "      <td>0</td>\n",
       "      <td>unknown</td>\n",
       "    </tr>\n",
       "    <tr>\n",
       "      <th>4</th>\n",
       "      <td>12527</td>\n",
       "      <td>45</td>\n",
       "      <td>blue-collar</td>\n",
       "      <td>divorced</td>\n",
       "      <td>secondary</td>\n",
       "      <td>no</td>\n",
       "      <td>-705</td>\n",
       "      <td>no</td>\n",
       "      <td>yes</td>\n",
       "      <td>unknown</td>\n",
       "      <td>3</td>\n",
       "      <td>jul</td>\n",
       "      <td>111</td>\n",
       "      <td>1</td>\n",
       "      <td>-1</td>\n",
       "      <td>0</td>\n",
       "      <td>unknown</td>\n",
       "    </tr>\n",
       "    <tr>\n",
       "      <th>5</th>\n",
       "      <td>16013</td>\n",
       "      <td>32</td>\n",
       "      <td>management</td>\n",
       "      <td>single</td>\n",
       "      <td>tertiary</td>\n",
       "      <td>no</td>\n",
       "      <td>0</td>\n",
       "      <td>yes</td>\n",
       "      <td>no</td>\n",
       "      <td>cellular</td>\n",
       "      <td>22</td>\n",
       "      <td>jul</td>\n",
       "      <td>455</td>\n",
       "      <td>2</td>\n",
       "      <td>-1</td>\n",
       "      <td>0</td>\n",
       "      <td>unknown</td>\n",
       "    </tr>\n",
       "    <tr>\n",
       "      <th>6</th>\n",
       "      <td>196</td>\n",
       "      <td>33</td>\n",
       "      <td>blue-collar</td>\n",
       "      <td>single</td>\n",
       "      <td>secondary</td>\n",
       "      <td>no</td>\n",
       "      <td>307</td>\n",
       "      <td>yes</td>\n",
       "      <td>no</td>\n",
       "      <td>unknown</td>\n",
       "      <td>5</td>\n",
       "      <td>may</td>\n",
       "      <td>309</td>\n",
       "      <td>2</td>\n",
       "      <td>-1</td>\n",
       "      <td>0</td>\n",
       "      <td>unknown</td>\n",
       "    </tr>\n",
       "    <tr>\n",
       "      <th>7</th>\n",
       "      <td>8516</td>\n",
       "      <td>37</td>\n",
       "      <td>management</td>\n",
       "      <td>married</td>\n",
       "      <td>secondary</td>\n",
       "      <td>no</td>\n",
       "      <td>341</td>\n",
       "      <td>no</td>\n",
       "      <td>no</td>\n",
       "      <td>unknown</td>\n",
       "      <td>3</td>\n",
       "      <td>jun</td>\n",
       "      <td>120</td>\n",
       "      <td>2</td>\n",
       "      <td>-1</td>\n",
       "      <td>0</td>\n",
       "      <td>unknown</td>\n",
       "    </tr>\n",
       "    <tr>\n",
       "      <th>8</th>\n",
       "      <td>31208</td>\n",
       "      <td>36</td>\n",
       "      <td>technician</td>\n",
       "      <td>divorced</td>\n",
       "      <td>tertiary</td>\n",
       "      <td>no</td>\n",
       "      <td>1381</td>\n",
       "      <td>no</td>\n",
       "      <td>no</td>\n",
       "      <td>cellular</td>\n",
       "      <td>2</td>\n",
       "      <td>mar</td>\n",
       "      <td>149</td>\n",
       "      <td>1</td>\n",
       "      <td>-1</td>\n",
       "      <td>0</td>\n",
       "      <td>unknown</td>\n",
       "    </tr>\n",
       "    <tr>\n",
       "      <th>9</th>\n",
       "      <td>38462</td>\n",
       "      <td>50</td>\n",
       "      <td>admin.</td>\n",
       "      <td>single</td>\n",
       "      <td>primary</td>\n",
       "      <td>no</td>\n",
       "      <td>181</td>\n",
       "      <td>yes</td>\n",
       "      <td>no</td>\n",
       "      <td>cellular</td>\n",
       "      <td>15</td>\n",
       "      <td>may</td>\n",
       "      <td>119</td>\n",
       "      <td>4</td>\n",
       "      <td>372</td>\n",
       "      <td>3</td>\n",
       "      <td>failure</td>\n",
       "    </tr>\n",
       "  </tbody>\n",
       "</table>\n",
       "</div>"
      ],
      "text/plain": [
       "      ID  age            job   marital  education default  balance housing  \\\n",
       "0  38441   32       services   married  secondary      no      118     yes   \n",
       "1  40403   78        retired  divorced    primary      no     2787      no   \n",
       "2   3709   31  self-employed    single   tertiary      no      144     yes   \n",
       "3  37422   57       services    single    primary      no     3777     yes   \n",
       "4  12527   45    blue-collar  divorced  secondary      no     -705      no   \n",
       "5  16013   32     management    single   tertiary      no        0     yes   \n",
       "6    196   33    blue-collar    single  secondary      no      307     yes   \n",
       "7   8516   37     management   married  secondary      no      341      no   \n",
       "8  31208   36     technician  divorced   tertiary      no     1381      no   \n",
       "9  38462   50         admin.    single    primary      no      181     yes   \n",
       "\n",
       "  loan    contact  day month  duration  campaign  pdays  previous poutcome  \n",
       "0   no   cellular   15   may        20         6     -1         0  unknown  \n",
       "1   no  telephone    1   jul       372         1     -1         0  unknown  \n",
       "2   no    unknown   16   may       676         1     -1         0  unknown  \n",
       "3   no  telephone   13   may        65         2     -1         0  unknown  \n",
       "4  yes    unknown    3   jul       111         1     -1         0  unknown  \n",
       "5   no   cellular   22   jul       455         2     -1         0  unknown  \n",
       "6   no    unknown    5   may       309         2     -1         0  unknown  \n",
       "7   no    unknown    3   jun       120         2     -1         0  unknown  \n",
       "8   no   cellular    2   mar       149         1     -1         0  unknown  \n",
       "9   no   cellular   15   may       119         4    372         3  failure  "
      ]
     },
     "execution_count": 39,
     "metadata": {},
     "output_type": "execute_result"
    }
   ],
   "source": [
    "test.head(10)"
   ]
  },
  {
   "cell_type": "code",
   "execution_count": 40,
   "id": "2b0e6d42",
   "metadata": {},
   "outputs": [
    {
     "data": {
      "text/plain": [
       "Index(['ID', 'age', 'job', 'marital', 'education', 'default', 'balance',\n",
       "       'housing', 'loan', 'contact', 'day', 'month', 'duration', 'campaign',\n",
       "       'pdays', 'previous', 'poutcome', 'subscribed'],\n",
       "      dtype='object')"
      ]
     },
     "execution_count": 40,
     "metadata": {},
     "output_type": "execute_result"
    }
   ],
   "source": [
    "train.columns"
   ]
  },
  {
   "cell_type": "code",
   "execution_count": 41,
   "id": "2f315489",
   "metadata": {},
   "outputs": [
    {
     "data": {
      "text/plain": [
       "Index(['ID', 'age', 'job', 'marital', 'education', 'default', 'balance',\n",
       "       'housing', 'loan', 'contact', 'day', 'month', 'duration', 'campaign',\n",
       "       'pdays', 'previous', 'poutcome'],\n",
       "      dtype='object')"
      ]
     },
     "execution_count": 41,
     "metadata": {},
     "output_type": "execute_result"
    }
   ],
   "source": [
    "test.columns"
   ]
  },
  {
   "cell_type": "code",
   "execution_count": 42,
   "id": "b3c589ad",
   "metadata": {},
   "outputs": [
    {
     "data": {
      "text/plain": [
       "((31647, 18), (13564, 17))"
      ]
     },
     "execution_count": 42,
     "metadata": {},
     "output_type": "execute_result"
    }
   ],
   "source": [
    "train.shape,test.shape"
   ]
  },
  {
   "cell_type": "markdown",
   "id": "06d179f5",
   "metadata": {},
   "source": [
    "### Therefore there are 17 independent variables and one target variable, i.e. 'subscribesd' in train dataset. We will predict the subscribed with the help of model built using the train data."
   ]
  },
  {
   "cell_type": "code",
   "execution_count": 43,
   "id": "b8483b62",
   "metadata": {},
   "outputs": [
    {
     "data": {
      "text/plain": [
       "ID             int64\n",
       "age            int64\n",
       "job           object\n",
       "marital       object\n",
       "education     object\n",
       "default       object\n",
       "balance        int64\n",
       "housing       object\n",
       "loan          object\n",
       "contact       object\n",
       "day            int64\n",
       "month         object\n",
       "duration       int64\n",
       "campaign       int64\n",
       "pdays          int64\n",
       "previous       int64\n",
       "poutcome      object\n",
       "subscribed    object\n",
       "dtype: object"
      ]
     },
     "execution_count": 43,
     "metadata": {},
     "output_type": "execute_result"
    }
   ],
   "source": [
    "train.dtypes"
   ]
  },
  {
   "cell_type": "markdown",
   "id": "70bd02f6",
   "metadata": {},
   "source": [
    "### There are two types of data :\n",
    "1. *object* : means variable are categorical\n",
    "2. *int64* : represents integer variable"
   ]
  },
  {
   "cell_type": "markdown",
   "id": "0475229b",
   "metadata": {},
   "source": [
    "# Univariate Analysis"
   ]
  },
  {
   "cell_type": "code",
   "execution_count": 44,
   "id": "68771f9f",
   "metadata": {},
   "outputs": [
    {
     "data": {
      "text/plain": [
       "no     27932\n",
       "yes     3715\n",
       "Name: subscribed, dtype: int64"
      ]
     },
     "execution_count": 44,
     "metadata": {},
     "output_type": "execute_result"
    }
   ],
   "source": [
    "train['subscribed'].value_counts()"
   ]
  },
  {
   "cell_type": "code",
   "execution_count": 45,
   "id": "0e93a155",
   "metadata": {},
   "outputs": [
    {
     "data": {
      "text/plain": [
       "no     0.882611\n",
       "yes    0.117389\n",
       "Name: subscribed, dtype: float64"
      ]
     },
     "execution_count": 45,
     "metadata": {},
     "output_type": "execute_result"
    }
   ],
   "source": [
    "#normalizing data to proportions instead of number\n",
    "train['subscribed'].value_counts(normalize=True)"
   ]
  },
  {
   "cell_type": "code",
   "execution_count": 46,
   "id": "3646c8be",
   "metadata": {},
   "outputs": [
    {
     "data": {
      "text/plain": [
       "<AxesSubplot:>"
      ]
     },
     "execution_count": 46,
     "metadata": {},
     "output_type": "execute_result"
    },
    {
     "data": {
      "image/png": "[encoded data removed]",
      "text/plain": [
       "<Figure size 432x288 with 1 Axes>"
      ]
     },
     "metadata": {
      "needs_background": "light"
     },
     "output_type": "display_data"
    }
   ],
   "source": [
    "#ploting the bar graph of frequencies\n",
    "train['subscribed'].value_counts().plot.bar(color =['red','green'],edgecolor='black')"
   ]
  },
  {
   "cell_type": "markdown",
   "id": "a0ff6e6a",
   "metadata": {},
   "source": [
    "### So only 11.73 % of the people have subscribed among 31647"
   ]
  },
  {
   "cell_type": "code",
   "execution_count": 47,
   "id": "8b526f78",
   "metadata": {},
   "outputs": [
    {
     "data": {
      "text/plain": [
       "<seaborn.axisgrid.FacetGrid at 0x23615b53400>"
      ]
     },
     "execution_count": 47,
     "metadata": {},
     "output_type": "execute_result"
    },
    {
     "data": {
      "image/png": "[encoded data removed]",
      "text/plain": [
       "<Figure size 360x360 with 1 Axes>"
      ]
     },
     "metadata": {
      "needs_background": "light"
     },
     "output_type": "display_data"
    }
   ],
   "source": [
    "sns.displot(train[\"age\"])"
   ]
  },
  {
   "cell_type": "code",
   "execution_count": 48,
   "id": "7dab68fe",
   "metadata": {},
   "outputs": [
    {
     "data": {
      "text/plain": [
       "<AxesSubplot:>"
      ]
     },
     "execution_count": 48,
     "metadata": {},
     "output_type": "execute_result"
    },
    {
     "data": {
      "image/png": "[encoded data removed]",
      "text/plain": [
       "<Figure size 432x288 with 1 Axes>"
      ]
     },
     "metadata": {
      "needs_background": "light"
     },
     "output_type": "display_data"
    }
   ],
   "source": [
    "c = ['red', 'yellow', 'cyan', 'blue', 'orange','lightgreen']\n",
    "train['job'].value_counts().plot.bar(color = c,edgecolor='black')"
   ]
  },
  {
   "cell_type": "markdown",
   "id": "d68dcab7",
   "metadata": {},
   "source": [
    "### We see that most of the clients belong to blue collar jobs"
   ]
  },
  {
   "cell_type": "code",
   "execution_count": 49,
   "id": "f37d3b33",
   "metadata": {},
   "outputs": [
    {
     "data": {
      "text/plain": [
       "<AxesSubplot:>"
      ]
     },
     "execution_count": 49,
     "metadata": {},
     "output_type": "execute_result"
    },
    {
     "data": {
      "image/png": "[encoded data removed]",
      "text/plain": [
       "<Figure size 432x288 with 1 Axes>"
      ]
     },
     "metadata": {
      "needs_background": "light"
     },
     "output_type": "display_data"
    }
   ],
   "source": [
    "train['default'].value_counts().plot.bar(color = ['red','green'],edgecolor='black')"
   ]
  },
  {
   "cell_type": "code",
   "execution_count": 50,
   "id": "faefd387",
   "metadata": {},
   "outputs": [
    {
     "data": {
      "text/plain": [
       "no     0.981515\n",
       "yes    0.018485\n",
       "Name: default, dtype: float64"
      ]
     },
     "execution_count": 50,
     "metadata": {},
     "output_type": "execute_result"
    }
   ],
   "source": [
    "train['default'].value_counts(normalize=1)"
   ]
  },
  {
   "cell_type": "markdown",
   "id": "006eac8d",
   "metadata": {},
   "source": [
    "### Nearly 98% of the clients have no default history. Now we will explore these variables against the target variable using bivariate analysis. We will make use of scatter plots of continuous or numeric and crosstabs for categorical variables....."
   ]
  },
  {
   "cell_type": "markdown",
   "id": "5d4a184f",
   "metadata": {},
   "source": [
    "# Bivariate Analysis"
   ]
  },
  {
   "cell_type": "code",
   "execution_count": 51,
   "id": "ae4d74a7",
   "metadata": {},
   "outputs": [
    {
     "name": "stdout",
     "output_type": "stream",
     "text": [
      "subscribed       no  yes\n",
      "job                     \n",
      "admin.         3179  452\n",
      "blue-collar    6353  489\n",
      "entrepreneur    923   85\n",
      "housemaid       795   79\n",
      "management     5716  923\n",
      "retired        1212  362\n",
      "self-employed   983  140\n",
      "services       2649  254\n",
      "student         453  182\n",
      "technician     4713  594\n",
      "unemployed      776  129\n",
      "unknown         180   26\n"
     ]
    }
   ],
   "source": [
    "print(pd.crosstab(train['job'],train['subscribed']))"
   ]
  },
  {
   "cell_type": "code",
   "execution_count": 52,
   "id": "9146e71f",
   "metadata": {},
   "outputs": [
    {
     "data": {
      "text/plain": [
       "Text(0, 0.5, 'Percentage')"
      ]
     },
     "execution_count": 52,
     "metadata": {},
     "output_type": "execute_result"
    },
    {
     "data": {
      "image/png": "[encoded data removed]",
      "text/plain": [
       "<Figure size 576x576 with 1 Axes>"
      ]
     },
     "metadata": {
      "needs_background": "light"
     },
     "output_type": "display_data"
    }
   ],
   "source": [
    "job = pd.crosstab(train['job'],train['subscribed'])\n",
    "job.div(job.sum(1).astype(float),axis=0).plot(kind='bar',stacked =True, figsize=(8,8))\n",
    "plt.xlabel('Job')\n",
    "plt.ylabel('Percentage')"
   ]
  },
  {
   "cell_type": "markdown",
   "id": "694626ea",
   "metadata": {},
   "source": [
    "### From the above graph we can infer that students and retired people have higher chances of subscribing to a term deposit, which is surprising as students generally do not subscribe to a term deposit. The possible reason is that the number of students in the dataset is less and comparatively to other job types"
   ]
  },
  {
   "cell_type": "code",
   "execution_count": 53,
   "id": "a1e35251",
   "metadata": {},
   "outputs": [
    {
     "name": "stdout",
     "output_type": "stream",
     "text": [
      "subscribed     no   yes\n",
      "default                \n",
      "no          27388  3674\n",
      "yes           544    41\n"
     ]
    },
    {
     "data": {
      "text/plain": [
       "Text(0, 0.5, 'Percentage')"
      ]
     },
     "execution_count": 53,
     "metadata": {},
     "output_type": "execute_result"
    },
    {
     "data": {
      "image/png": "[encoded data removed]",
      "text/plain": [
       "<Figure size 576x576 with 1 Axes>"
      ]
     },
     "metadata": {
      "needs_background": "light"
     },
     "output_type": "display_data"
    }
   ],
   "source": [
    "print(pd.crosstab(train['default'],train['subscribed']))\n",
    "\n",
    "default=pd.crosstab(train['default'],train['subscribed'])\n",
    "default.div(default.sum(1).astype(float), axis=0).plot(kind=\"bar\", stacked=True, figsize=(8,8))\n",
    "plt.xlabel('Default')\n",
    "plt.ylabel('Percentage')"
   ]
  },
  {
   "cell_type": "markdown",
   "id": "ffa5caa7",
   "metadata": {},
   "source": [
    "### We can infer that clients having no previous default have slightly higher chances of subscribing to a term loan as compared to the clients who have previous default history."
   ]
  },
  {
   "cell_type": "code",
   "execution_count": 54,
   "id": "8b51d1bb",
   "metadata": {},
   "outputs": [],
   "source": [
    "# Converting our target variable into numeric values first\n",
    "train['subscribed'].replace('no', 0,inplace=True)\n",
    "train['subscribed'].replace('yes', 1,inplace=True)"
   ]
  },
  {
   "cell_type": "code",
   "execution_count": 55,
   "id": "b610329e",
   "metadata": {},
   "outputs": [
    {
     "data": {
      "text/plain": [
       "<AxesSubplot:>"
      ]
     },
     "execution_count": 55,
     "metadata": {},
     "output_type": "execute_result"
    },
    {
     "data": {
      "image/png": "[encoded data removed]",
      "text/plain": [
       "<Figure size 1440x720 with 2 Axes>"
      ]
     },
     "metadata": {
      "needs_background": "light"
     },
     "output_type": "display_data"
    }
   ],
   "source": [
    "corr = train.corr()\n",
    "mask = np.array(corr)\n",
    "mask[np.tril_indices_from(mask)] = False\n",
    "fig,ax= plt.subplots()\n",
    "fig.set_size_inches(20,10)\n",
    "sns.heatmap(corr, mask=mask,vmax=.9, square=True,annot=True, cmap=\"YlGnBu\")"
   ]
  },
  {
   "cell_type": "markdown",
   "id": "5871a9ef",
   "metadata": {},
   "source": [
    "### So we can infer that duration is highly corelated to people subscribed  ...."
   ]
  },
  {
   "cell_type": "code",
   "execution_count": 56,
   "id": "a5634c7e",
   "metadata": {},
   "outputs": [
    {
     "data": {
      "text/plain": [
       "ID            0\n",
       "age           0\n",
       "job           0\n",
       "marital       0\n",
       "education     0\n",
       "default       0\n",
       "balance       0\n",
       "housing       0\n",
       "loan          0\n",
       "contact       0\n",
       "day           0\n",
       "month         0\n",
       "duration      0\n",
       "campaign      0\n",
       "pdays         0\n",
       "previous      0\n",
       "poutcome      0\n",
       "subscribed    0\n",
       "dtype: int64"
      ]
     },
     "execution_count": 56,
     "metadata": {},
     "output_type": "execute_result"
    }
   ],
   "source": [
    "train.isnull().sum()"
   ]
  },
  {
   "cell_type": "markdown",
   "id": "3d2849b4",
   "metadata": {},
   "source": [
    "# Model Buliding"
   ]
  },
  {
   "cell_type": "code",
   "execution_count": 57,
   "id": "75901f82",
   "metadata": {},
   "outputs": [],
   "source": [
    "target = train['subscribed']\n",
    "train = train.drop('subscribed',1)"
   ]
  },
  {
   "cell_type": "code",
   "execution_count": 58,
   "id": "78422546",
   "metadata": {},
   "outputs": [],
   "source": [
    "# applying dummies on the train dataset\n",
    "train = pd.get_dummies(train)"
   ]
  },
  {
   "cell_type": "code",
   "execution_count": 59,
   "id": "4ed01345",
   "metadata": {},
   "outputs": [],
   "source": [
    "from sklearn.model_selection import train_test_split"
   ]
  },
  {
   "cell_type": "code",
   "execution_count": 60,
   "id": "043d239c",
   "metadata": {},
   "outputs": [],
   "source": [
    "# splitting into train and validation with 20% data in validation set and 80% data in train set.\n",
    "x_train, x_val, y_train, y_val = train_test_split(train, target, test_size = 0.2, random_state=12)"
   ]
  },
  {
   "cell_type": "markdown",
   "id": "508c0dfc",
   "metadata": {},
   "source": [
    "### Now our data is ready. Its time to build our model and check its performance. Logistic regression is used for classification problems and as it is a classification problem let's first build a Logistic Regression model."
   ]
  },
  {
   "cell_type": "markdown",
   "id": "965fb770",
   "metadata": {},
   "source": [
    "# Logistic Regression"
   ]
  },
  {
   "cell_type": "code",
   "execution_count": 61,
   "id": "6695d0b2",
   "metadata": {},
   "outputs": [],
   "source": [
    "from sklearn.linear_model import LogisticRegression"
   ]
  },
  {
   "cell_type": "code",
   "execution_count": 62,
   "id": "b96892c3",
   "metadata": {},
   "outputs": [],
   "source": [
    "#defining logistic regression model\n",
    "lReg = LogisticRegression()"
   ]
  },
  {
   "cell_type": "code",
   "execution_count": 63,
   "id": "4e3562ce",
   "metadata": {},
   "outputs": [
    {
     "data": {
      "text/plain": [
       "LogisticRegression()"
      ]
     },
     "execution_count": 63,
     "metadata": {},
     "output_type": "execute_result"
    }
   ],
   "source": [
    "#fitting the model on x_train,ytrain\n",
    "lReg.fit(x_train,y_train)"
   ]
  },
  {
   "cell_type": "code",
   "execution_count": 64,
   "id": "24186b79",
   "metadata": {},
   "outputs": [],
   "source": [
    "# making prediction on the validation set\n",
    "prediction =lReg.predict(x_val)"
   ]
  },
  {
   "cell_type": "code",
   "execution_count": 65,
   "id": "3b6070fa",
   "metadata": {},
   "outputs": [],
   "source": [
    "from sklearn.metrics import accuracy_score"
   ]
  },
  {
   "cell_type": "code",
   "execution_count": 66,
   "id": "23ecf009",
   "metadata": {},
   "outputs": [
    {
     "data": {
      "text/plain": [
       "0.8868878357030016"
      ]
     },
     "execution_count": 66,
     "metadata": {},
     "output_type": "execute_result"
    }
   ],
   "source": [
    "#calculating the accuracy_score\n",
    "accuracy_score(y_val,prediction)"
   ]
  },
  {
   "cell_type": "markdown",
   "id": "99c62f7d",
   "metadata": {},
   "source": [
    "### So we got accuracy around 88.68% on the validation set.\n",
    "### Lets try using Decision tree to check if we get a better accuracy"
   ]
  },
  {
   "cell_type": "markdown",
   "id": "6c1a0c2b",
   "metadata": {},
   "source": [
    "# Decision Tree"
   ]
  },
  {
   "cell_type": "code",
   "execution_count": 67,
   "id": "74df5dcf",
   "metadata": {},
   "outputs": [],
   "source": [
    "from sklearn.tree import DecisionTreeClassifier"
   ]
  },
  {
   "cell_type": "code",
   "execution_count": 68,
   "id": "69eb9cae",
   "metadata": {},
   "outputs": [],
   "source": [
    "# defining the decision tree model with depth of 4, you can tune it further to improve the accuracy score\n",
    "clf = DecisionTreeClassifier(max_depth=4, random_state=0)"
   ]
  },
  {
   "cell_type": "code",
   "execution_count": 69,
   "id": "7682e23f",
   "metadata": {},
   "outputs": [
    {
     "data": {
      "text/plain": [
       "DecisionTreeClassifier(max_depth=4, random_state=0)"
      ]
     },
     "execution_count": 69,
     "metadata": {},
     "output_type": "execute_result"
    }
   ],
   "source": [
    "# fitting the decision tree model\n",
    "clf.fit(x_train,y_train)"
   ]
  },
  {
   "cell_type": "code",
   "execution_count": 70,
   "id": "81cfa0d8",
   "metadata": {},
   "outputs": [],
   "source": [
    "# making prediction on the validation set\n",
    "predict = clf.predict(x_val)"
   ]
  },
  {
   "cell_type": "code",
   "execution_count": 71,
   "id": "764a47f1",
   "metadata": {},
   "outputs": [
    {
     "data": {
      "text/plain": [
       "array([0, 0, 0, ..., 1, 0, 0], dtype=int64)"
      ]
     },
     "execution_count": 71,
     "metadata": {},
     "output_type": "execute_result"
    }
   ],
   "source": [
    "predict"
   ]
  },
  {
   "cell_type": "code",
   "execution_count": 72,
   "id": "8a1f4216",
   "metadata": {},
   "outputs": [
    {
     "data": {
      "text/plain": [
       "0.9042654028436019"
      ]
     },
     "execution_count": 72,
     "metadata": {},
     "output_type": "execute_result"
    }
   ],
   "source": [
    "accuracy_score(y_val,predict)"
   ]
  },
  {
   "cell_type": "markdown",
   "id": "2cbb54db",
   "metadata": {},
   "source": [
    "### Here we got 90.42% accuracy which is a better result "
   ]
  },
  {
   "cell_type": "code",
   "execution_count": 73,
   "id": "3f97b14c",
   "metadata": {},
   "outputs": [],
   "source": [
    "test = pd.get_dummies(test)"
   ]
  },
  {
   "cell_type": "code",
   "execution_count": 74,
   "id": "e2e6ec9c",
   "metadata": {},
   "outputs": [
    {
     "data": {
      "text/plain": [
       "array([0, 1, 0, ..., 0, 1, 0], dtype=int64)"
      ]
     },
     "execution_count": 74,
     "metadata": {},
     "output_type": "execute_result"
    }
   ],
   "source": [
    "test_prediction =clf.predict(test)\n",
    "test_prediction"
   ]
  },
  {
   "cell_type": "markdown",
   "id": "166f9a21",
   "metadata": {},
   "source": [
    "### Finally we save these predictions into a csv file."
   ]
  },
  {
   "cell_type": "code",
   "execution_count": 75,
   "id": "058f700f",
   "metadata": {},
   "outputs": [],
   "source": [
    "submission = pd.DataFrame()"
   ]
  },
  {
   "cell_type": "code",
   "execution_count": 76,
   "id": "d128296c",
   "metadata": {},
   "outputs": [],
   "source": [
    "submission['ID'] = test['ID']\n",
    "submission['subscribed']=test_prediction"
   ]
  },
  {
   "cell_type": "markdown",
   "id": "9f5d71ec",
   "metadata": {},
   "source": [
    "### Since the target variable is yes or no, we will convert the 1 and 0 in the predictions to yes and no respectively"
   ]
  },
  {
   "cell_type": "code",
   "execution_count": 77,
   "id": "ac1aa7b5",
   "metadata": {},
   "outputs": [],
   "source": [
    "submission['subscribed'].replace(0,'no',inplace=True)\n",
    "submission['subscribed'].replace(1,'yes',inplace=True)"
   ]
  },
  {
   "cell_type": "code",
   "execution_count": 78,
   "id": "aded7f2e",
   "metadata": {},
   "outputs": [],
   "source": [
    "submission.to_csv('Sub.csv',header=True,index=False)"
   ]
  }
 ],
 "metadata": {
  "kernelspec": {
   "display_name": "Python 3 (ipykernel)",
   "language": "python",
   "name": "python3"
  },
  "language_info": {
   "codemirror_mode": {
    "name": "ipython",
    "version": 3
   },
   "file_extension": ".py",
   "mimetype": "text/x-python",
   "name": "python",
   "nbconvert_exporter": "python",
   "pygments_lexer": "ipython3",
   "version": "3.10.1"
  }
 },
 "nbformat": 4,
 "nbformat_minor": 5
}
